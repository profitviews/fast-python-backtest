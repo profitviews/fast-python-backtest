{
 "cells": [
  {
   "cell_type": "code",
   "execution_count": 1,
   "metadata": {},
   "outputs": [],
   "source": [
    "import sys\n",
    "sys.path.append(\"../build\")"
   ]
  },
  {
   "cell_type": "code",
   "execution_count": 2,
   "metadata": {},
   "outputs": [],
   "source": [
    "import lib.simple_pybind11_parquet_test as sppt"
   ]
  },
  {
   "cell_type": "code",
   "execution_count": 3,
   "metadata": {},
   "outputs": [
    {
     "name": "stdout",
     "output_type": "stream",
     "text": [
      "Reading ../data/quote/bitmex/XBTUSD/20221109.parquet at one\n",
      "Loaded 1762786 rows in 5 columns.\n",
      "Field names: \n",
      "Field 1: 'time' has type int64\n",
      "Field 2: 'bid' has type double\n",
      "Field 3: 'ask' has type double\n",
      "Field 4: 'bsize' has type int64\n",
      "Field 5: 'asize' has type int64\n"
     ]
    }
   ],
   "source": [
    "sppt.read_parquet(\"../data/quote/bitmex/XBTUSD/20221109.parquet\")"
   ]
  },
  {
   "cell_type": "code",
   "execution_count": null,
   "metadata": {},
   "outputs": [],
   "source": []
  }
 ],
 "metadata": {
  "kernelspec": {
   "display_name": "Python 3.10.5 ('.venv': venv)",
   "language": "python",
   "name": "python3"
  },
  "language_info": {
   "codemirror_mode": {
    "name": "ipython",
    "version": 3
   },
   "file_extension": ".py",
   "mimetype": "text/x-python",
   "name": "python",
   "nbconvert_exporter": "python",
   "pygments_lexer": "ipython3",
   "version": "3.10.5"
  },
  "orig_nbformat": 4,
  "vscode": {
   "interpreter": {
    "hash": "5148c5c2f00844b9a011dadaf004a8de2eaded0a40bf3d83dced79b8d580bba3"
   }
  }
 },
 "nbformat": 4,
 "nbformat_minor": 2
}
